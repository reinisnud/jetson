{
 "cells": [
  {
   "cell_type": "code",
   "execution_count": null,
   "metadata": {},
   "outputs": [],
   "source": [
    "################################################################################################"
   ]
  },
  {
   "cell_type": "code",
   "execution_count": 1,
   "metadata": {},
   "outputs": [
    {
     "data": {
      "application/vnd.jupyter.widget-view+json": {
       "model_id": "cd429f3aee8840498b3f77716863fc45",
       "version_major": 2,
       "version_minor": 0
      },
      "text/plain": [
       "Controller(index=1)"
      ]
     },
     "metadata": {},
     "output_type": "display_data"
    }
   ],
   "source": [
    "import ipywidgets.widgets as widgets\n",
    "\n",
    "controller = widgets.Controller(index=1)  # replace with index of your controller\n",
    "\n",
    "display(controller)\n",
    "\n",
    "from jetbot import Robot\n",
    "import numpy as np\n",
    "import traitlets\n",
    "from traits.api import HasTraits, Int, Range\n",
    "from IPython.display import display\n",
    "import ipywidgets\n",
    "\n",
    "robot = Robot()"
   ]
  },
  {
   "cell_type": "code",
   "execution_count": 2,
   "metadata": {},
   "outputs": [],
   "source": [
    "import ipywidgets.widgets as widgets\n",
    "# global x \n",
    "# global y \n",
    "\n",
    "\n",
    "# int_range = widgets.IntSlider()\n",
    "# display(int_range)\n",
    "\n",
    "speed = 0.10\n",
    "steering_gain = 0.02\n",
    "\n",
    "def on_value_changeX(change):\n",
    "    global x\n",
    "    x = change['new']*100#*50 +50\n",
    "#     print(\"X: \", x)\n",
    "    calculateAngle(x,y)\n",
    "\n",
    "def on_value_changeY(change):\n",
    "    global y\n",
    "    y = change['new']*(-100)#*50 +50#(0.5 - change['new']) / 2.0 #*50 +50\n",
    "#     print(\"Y: \", y)\n",
    "    calculateAngle(x,y)\n",
    "    \n",
    "def calculateAngle(x,y):\n",
    "    fPivYLimit = 75\n",
    "\n",
    "    # TEMP VARIABLES\n",
    "    nMotPremixL = 0 # Motor (left)  premixed output        (-128..+127)\n",
    "    nMotPremixR = 0 # Motor (right) premixed output        (-128..+127)\n",
    "    nPivSpeed = 0   # Pivot Speed                          (-128..+127)\n",
    "    fPivScale = 0.0 # Balance scale b/w drive and pivot    (   0..1   )\n",
    "    # Calculate Drive Turn output due to Joystick X input\n",
    "    if(y>=50):\n",
    "      # Forward\n",
    "        nMotPremixL = 100.0 if x>=0 else 100.0 + x\n",
    "        nMotPremixR = 100.0 - x if x>=0 else 100.0\n",
    "    else:\n",
    "        # Reverse\n",
    "        nMotPremixL = 100.0 - x if x>=0 else 100.0\n",
    "        nMotPremixR = 100.0 if x>=0 else 100.0 + x\n",
    "\n",
    "    # Scale Drive output due to Joystick Y input (throttle)\n",
    "    nMotPremixL = nMotPremixL * y/100.0\n",
    "    nMotPremixR = nMotPremixR * y/100.0\n",
    "\n",
    "    # Now calculate pivot amount\n",
    "    #  - Strength of pivot (nPivSpeed) based on Joystick X input\n",
    "    #  - Blending of pivot vs drive (fPivScale) based on Joystick Y input\n",
    "    nPivSpeed = x\n",
    "    fPivScale = 0.0 if abs(y)>fPivYLimit else 1.0-abs(y)/fPivYLimit\n",
    "\n",
    "    # Calculate final mix of Drive and Pivot\n",
    "    nMotMixL = int((1.0-fPivScale)*nMotPremixL + fPivScale*( nPivSpeed)) # Motor (left)  mixed output           (-128..+127)\n",
    "    nMotMixR = int((1.0-fPivScale)*nMotPremixR + fPivScale*(-nPivSpeed)) # Motor (right) mixed output           (-128..+127)\n",
    "    \n",
    "    robot.left_motor.value = nMotMixL * 0.0020\n",
    "    robot.right_motor.value = nMotMixR * 0.0020\n",
    "#     print(\"nMotMixL: \", nMotMixL)\n",
    "#     print(\"nMotMixR: \", nMotMixR)\n",
    "#     print(\"X: \", x)\n",
    "#     print(\"Y: \", y)\n",
    "    \n",
    "def calculateAngle1(x,y):\n",
    "    global angle\n",
    "    angle = np.arctan2(x, y)\n",
    "    global PID\n",
    "    PID = angle * steering_gain \n",
    "    robot.left_motor.value = max(min(speed + PID, 1.0), 0.0)\n",
    "    robot.right_motor.value = max(min(speed - PID, 1.0), 0.0)\n",
    "    print(\"X: \", x)\n",
    "    print(\"Y: \", y)\n",
    "    print(\"Angle: \", angle)\n",
    "    print(\"PID: \", PID)\n",
    "   \n",
    "    \n",
    "controller.axes[2].observe(on_value_changeX, names='value')\n",
    "controller.axes[1].observe(on_value_changeY, names='value')\n",
    "# int_range.observe(on_value_change, names='value')"
   ]
  },
  {
   "cell_type": "code",
   "execution_count": 3,
   "metadata": {},
   "outputs": [
    {
     "data": {
      "application/vnd.jupyter.widget-view+json": {
       "model_id": "ec3012bdcedc4990993008594bd8fd24",
       "version_major": 2,
       "version_minor": 0
      },
      "text/plain": [
       "FloatSlider(value=0.0, description='Right motor', max=1.0, min=-1.0, step=0.001)"
      ]
     },
     "metadata": {},
     "output_type": "display_data"
    },
    {
     "data": {
      "application/vnd.jupyter.widget-view+json": {
       "model_id": "26fa320372924e888ee71025f8191c96",
       "version_major": 2,
       "version_minor": 0
      },
      "text/plain": [
       "FloatSlider(value=0.0, description='Left Motor', max=1.0, min=-1.0, step=0.001)"
      ]
     },
     "metadata": {},
     "output_type": "display_data"
    }
   ],
   "source": [
    "right = ipywidgets.FloatSlider(min=-1.0, max=1.0, step=0.001, description='Right motor')\n",
    "left = ipywidgets.FloatSlider(min=-1.0, max=1.0, step=0.001, description='Left Motor')\n",
    "right_link = traitlets.link((robot.right_motor, 'value'), (right, 'value'))\n",
    "left_link = traitlets.link((robot.left_motor, 'value'), (left, 'value'))\n",
    "\n",
    "display(right, left)\n"
   ]
  },
  {
   "cell_type": "code",
   "execution_count": 4,
   "metadata": {},
   "outputs": [],
   "source": [
    "from apscheduler.schedulers.background import BackgroundScheduler\n",
    "from apscheduler.schedulers.asyncio import AsyncIOScheduler\n",
    "from uuid import uuid1\n",
    "\n",
    "import asyncio\n",
    "import os\n",
    "from datetime import datetime\n",
    "# import ipywidgets.widgets as widgets\n",
    "# controller = widgets.Controller(index=1)  # replace with index of your controller\n",
    "from apscheduler.executors.pool import ProcessPoolExecutor\n",
    "\n",
    "executors = {\n",
    "    'default': {'type': 'threadpool', 'max_workers': 1},\n",
    "    'processpool': ProcessPoolExecutor(max_workers=5)\n",
    "}\n",
    "job_defaults = {\n",
    "    'coalesce': False,\n",
    "    'max_instances': 1\n",
    "}\n",
    "scheduler = BackgroundScheduler()\n",
    "scheduler.configure(executors=executors, job_defaults=job_defaults)\n"
   ]
  },
  {
   "cell_type": "code",
   "execution_count": 5,
   "metadata": {},
   "outputs": [],
   "source": [
    "from IPython.display import display\n",
    "\n",
    "# Camera and Motor Interface for JetBot\n",
    "from jetbot import Robot, Camera, bgr8_to_jpeg\n",
    "\n",
    "# Python basic pakcages for image annotation\n",
    "from uuid import uuid1\n",
    "import os\n",
    "import json\n",
    "import glob\n",
    "import datetime\n",
    "import numpy as np\n",
    "import cv2\n",
    "import time\n",
    "from jetbot import Robot, Camera, bgr8_to_jpeg\n",
    "DATASET_DIR = 'dataset_xy'\n",
    "camera = Camera()\n",
    "\n",
    "image_widget = widgets.Image(format='jpeg', width=112, height=112)\n",
    "traitlets.dlink((camera, 'value'), (image_widget, 'value'), transform=bgr8_to_jpeg)\n",
    "# we have this \"try/except\" statement because these next functions can throw an error if the directories exist already\n",
    "try:\n",
    "    os.makedirs(DATASET_DIR)\n",
    "except FileExistsError:\n",
    "    print('Directories not created becasue they already exist')\n",
    "def xy_uuid(x1, y1):\n",
    "    return 'xy_%03d_%03d_%s' % (x1, y1, uuid1())\n",
    "#     print(\"X: \" + x1 + \" Y:  \" + y1  )\n",
    "\n",
    "def save_snapshot():\n",
    "    \n",
    "    uuid = xy_uuid(x,y)#controller.axes[2].value, controller.axes[1].value)\n",
    "    image_path = os.path.join(DATASET_DIR, uuid + '.jpg')\n",
    "    with open(image_path, 'wb') as f:\n",
    "        f.write(image_widget.value)\n",
    "#     count_widget.value = len(glob.glob(os.path.join(DATASET_DIR, '*.jpg')))\n",
    "    print(\"screenshot saved!\")\n",
    "\n",
    "def tick():\n",
    "\n",
    "#     print(\"Axis 1 (y): \" + str(y))\n",
    "\n",
    "#     print(\"Axis 2 (x): \" + str(x))\n",
    "    # print(\"Picture and Steering/torttle positions saved\")"
   ]
  },
  {
   "cell_type": "code",
   "execution_count": 6,
   "metadata": {},
   "outputs": [
    {
     "name": "stdout",
     "output_type": "stream",
     "text": [
      "screenshot saved!\n",
      "screenshot saved!\n",
      "screenshot saved!\n",
      "screenshot saved!\n",
      "screenshot saved!\n",
      "screenshot saved!\n",
      "screenshot saved!\n",
      "screenshot saved!\n"
     ]
    }
   ],
   "source": [
    "job = scheduler.add_job(save_snapshot, 'interval', seconds=1)\n",
    "scheduler.start()"
   ]
  },
  {
   "cell_type": "code",
   "execution_count": 7,
   "metadata": {},
   "outputs": [],
   "source": [
    "job.remove()\n"
   ]
  },
  {
   "cell_type": "code",
   "execution_count": 8,
   "metadata": {},
   "outputs": [],
   "source": [
    "scheduler.shutdown()"
   ]
  },
  {
   "cell_type": "code",
   "execution_count": 9,
   "metadata": {},
   "outputs": [],
   "source": [
    "robot.stop()"
   ]
  },
  {
   "cell_type": "code",
   "execution_count": 10,
   "metadata": {},
   "outputs": [],
   "source": [
    "def timestr():\n",
    "    return str(datetime.datetime.now().strftime('%Y-%m-%d_%H-%M-%S'))\n",
    "\n",
    "!zip -r -q road_following_{DATASET_DIR}_{timestr()}.zip {DATASET_DIR}"
   ]
  },
  {
   "cell_type": "code",
   "execution_count": null,
   "metadata": {},
   "outputs": [],
   "source": []
  }
 ],
 "metadata": {
  "kernelspec": {
   "display_name": "Python 3",
   "language": "python",
   "name": "python3"
  },
  "language_info": {
   "codemirror_mode": {
    "name": "ipython",
    "version": 3
   },
   "file_extension": ".py",
   "mimetype": "text/x-python",
   "name": "python",
   "nbconvert_exporter": "python",
   "pygments_lexer": "ipython3",
   "version": "3.6.9"
  }
 },
 "nbformat": 4,
 "nbformat_minor": 4
}
